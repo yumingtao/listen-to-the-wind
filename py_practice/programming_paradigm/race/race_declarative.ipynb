{
 "cells": [
  {
   "cell_type": "code",
   "execution_count": 8,
   "metadata": {
    "collapsed": true
   },
   "outputs": [
    {
     "name": "stdout",
     "output_type": "stream",
     "text": [
      "draw- 5\n",
      "-\n",
      "-\n",
      "-\n",
      "draw- 4\n",
      "--\n",
      "--\n",
      "--\n",
      "draw- 3\n",
      "---\n",
      "---\n",
      "---\n",
      "draw- 2\n",
      "----\n",
      "----\n",
      "----\n",
      "draw- 1\n",
      "-----\n",
      "-----\n",
      "-----\n",
      "draw- 0\n",
      "-----\n",
      "------\n",
      "-----\n"
     ]
    }
   ],
   "source": [
    "from random import random\n",
    "\n",
    "def move_cars(car_positions):\n",
    "    return list(map(lambda x: x + 1 if random() > 0.3 else x,\n",
    "                                  car_positions))\n",
    "\n",
    "def output_car(car_position):\n",
    "    return '-' * car_position\n",
    "\n",
    "def run_step_of_race(state):\n",
    "    return {'time': state['time'] - 1,\n",
    "            'car_positions': move_cars(state['car_positions'])}\n",
    "\n",
    "def draw(state):\n",
    "    print(\"draw-\", state['time'])\n",
    "    print('\\n'.join(map(output_car, state['car_positions'])))\n",
    "\n",
    "def race(state):\n",
    "    draw(state)\n",
    "    if state['time']:\n",
    "        race(run_step_of_race(state))\n",
    "\n",
    "race({'time': 5, 'car_positions': [1, 1, 1]})\n"
   ]
  },
  {
   "cell_type": "code",
   "execution_count": 2,
   "outputs": [
    {
     "name": "stdout",
     "output_type": "stream",
     "text": [
      "hello world!\n"
     ]
    }
   ],
   "source": [
    "print(\"hello world!\")"
   ],
   "metadata": {
    "collapsed": false,
    "pycharm": {
     "name": "#%%\n"
    }
   }
  },
  {
   "cell_type": "code",
   "execution_count": 37,
   "outputs": [
    {
     "name": "stdout",
     "output_type": "stream",
     "text": [
      "[2, 2, 2]\n",
      "[2, 1, 1]\n",
      "[2, 1, 2]\n",
      "[2, 1, 2]\n",
      "[2, 2, 2]\n",
      "[2, 2, 2]\n",
      "[2, 2, 2]\n",
      "[2, 1, 2]\n",
      "[1, 2, 1]\n"
     ]
    }
   ],
   "source": [
    "d = [1, 1, 1]\n",
    "for i in range(1, 10):\n",
    "    m = map(lambda x: x + 1 if random() > 0.3 else x, d)\n",
    "    print(list(m))"
   ],
   "metadata": {
    "collapsed": false,
    "pycharm": {
     "name": "#%%\n"
    }
   }
  },
  {
   "cell_type": "code",
   "execution_count": 23,
   "outputs": [
    {
     "name": "stdout",
     "output_type": "stream",
     "text": [
      "---\n",
      "0.19268241574441558\n",
      "1\n",
      "0.5014350192563408\n",
      "2\n",
      "0.6420067764360299\n",
      "2\n",
      "0.055397826172414066\n",
      "1\n",
      "0.6583813549059042\n",
      "2\n",
      "0.27069391742561166\n",
      "1\n",
      "0.7505691447211567\n",
      "2\n",
      "0.7834658999884615\n",
      "2\n",
      "0.024600890910836393\n",
      "1\n"
     ]
    }
   ],
   "source": [
    "print('-' * 3)\n",
    "for i in range(1, 10):\n",
    "    r = random()\n",
    "    print(r)\n",
    "    g = lambda x: x + 1 if r > 0.3 else x\n",
    "    print(g(1))"
   ],
   "metadata": {
    "collapsed": false,
    "pycharm": {
     "name": "#%%\n"
    }
   }
  }
 ],
 "metadata": {
  "kernelspec": {
   "display_name": "Python 3",
   "language": "python",
   "name": "python3"
  },
  "language_info": {
   "codemirror_mode": {
    "name": "ipython",
    "version": 2
   },
   "file_extension": ".py",
   "mimetype": "text/x-python",
   "name": "python",
   "nbconvert_exporter": "python",
   "pygments_lexer": "ipython2",
   "version": "2.7.6"
  }
 },
 "nbformat": 4,
 "nbformat_minor": 0
}